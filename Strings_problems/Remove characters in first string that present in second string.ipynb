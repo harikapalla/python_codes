{
 "cells": [
  {
   "cell_type": "code",
   "execution_count": 4,
   "metadata": {},
   "outputs": [
    {
     "name": "stdout",
     "output_type": "stream",
     "text": [
      "hewrd\n"
     ]
    }
   ],
   "source": [
    "def rem_fs(fs, ss):\n",
    "    l=[]\n",
    "    for i in range(len(fs)):\n",
    "        if fs[i] in ss:\n",
    "            continue\n",
    "        l.append(fs[i])\n",
    "    return(''.join(l))\n",
    "\n",
    "if __name__==\"__main__\":\n",
    "    fstring = \"helloworld\"\n",
    "    sstring = \"lo\"\n",
    "    print(rem_fs(fstring, sstring))"
   ]
  }
 ],
 "metadata": {
  "kernelspec": {
   "display_name": "Python 3",
   "language": "python",
   "name": "python3"
  },
  "language_info": {
   "codemirror_mode": {
    "name": "ipython",
    "version": 3
   },
   "file_extension": ".py",
   "mimetype": "text/x-python",
   "name": "python",
   "nbconvert_exporter": "python",
   "pygments_lexer": "ipython3",
   "version": "3.7.3"
  }
 },
 "nbformat": 4,
 "nbformat_minor": 2
}
