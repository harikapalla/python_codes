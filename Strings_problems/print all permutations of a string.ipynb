{
 "cells": [
  {
   "cell_type": "code",
   "execution_count": 6,
   "metadata": {},
   "outputs": [
    {
     "name": "stdout",
     "output_type": "stream",
     "text": [
      "['abc', 'acb', 'bac', 'bca', 'cab', 'cba']\n"
     ]
    }
   ],
   "source": [
    "#using inbuilt function\n",
    "from itertools import permutations\n",
    "string = \"abc\"\n",
    "print([''.join(p) for p in permutations(string)])"
   ]
  },
  {
   "cell_type": "code",
   "execution_count": 10,
   "metadata": {},
   "outputs": [
    {
     "name": "stdout",
     "output_type": "stream",
     "text": [
      "abc\n",
      "acb\n",
      "bac\n",
      "bca\n",
      "cba\n",
      "cab\n"
     ]
    }
   ],
   "source": [
    "\n",
    "def printlist(x):\n",
    "    print(''.join(x))\n",
    "\n",
    "\n",
    "\n",
    "def permute(x, l, r):\n",
    "    if l==r:\n",
    "        printlist(x)\n",
    "    else:\n",
    "        for i in range(l, r+1):\n",
    "            x[l], x[i] = x[i], x[l]\n",
    "            permute(x, l+1, r)\n",
    "            x[l], x[i] = x[i], x[l]\n",
    "\n",
    "\n",
    "#driver code\n",
    "string = \"abc\"\n",
    "n = len(string)\n",
    "x = list(string)\n",
    "permute(x, 0, n-1)"
   ]
  }
 ],
 "metadata": {
  "kernelspec": {
   "display_name": "Python 3",
   "language": "python",
   "name": "python3"
  },
  "language_info": {
   "codemirror_mode": {
    "name": "ipython",
    "version": 3
   },
   "file_extension": ".py",
   "mimetype": "text/x-python",
   "name": "python",
   "nbconvert_exporter": "python",
   "pygments_lexer": "ipython3",
   "version": "3.7.3"
  }
 },
 "nbformat": 4,
 "nbformat_minor": 2
}
