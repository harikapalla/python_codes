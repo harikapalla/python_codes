{
 "cells": [
  {
   "cell_type": "code",
   "execution_count": 4,
   "metadata": {},
   "outputs": [
    {
     "name": "stdout",
     "output_type": "stream",
     "text": [
      "c o l "
     ]
    }
   ],
   "source": [
    "from collections import Counter\n",
    "\n",
    "def dup_char(string):\n",
    "    x = Counter(string)\n",
    "    for key,value in x.items():\n",
    "        if (value > 1):\n",
    "            print(key, end=' ')\n",
    "\n",
    "if __name__==\"__main__\":\n",
    "    string = \"collections\"\n",
    "    dup_char(string)"
   ]
  }
 ],
 "metadata": {
  "kernelspec": {
   "display_name": "Python 3",
   "language": "python",
   "name": "python3"
  },
  "language_info": {
   "codemirror_mode": {
    "name": "ipython",
    "version": 3
   },
   "file_extension": ".py",
   "mimetype": "text/x-python",
   "name": "python",
   "nbconvert_exporter": "python",
   "pygments_lexer": "ipython3",
   "version": "3.7.3"
  }
 },
 "nbformat": 4,
 "nbformat_minor": 2
}
