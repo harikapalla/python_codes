{
 "cells": [
  {
   "cell_type": "code",
   "execution_count": 7,
   "metadata": {},
   "outputs": [
    {
     "name": "stdout",
     "output_type": "stream",
     "text": [
      "true\n"
     ]
    }
   ],
   "source": [
    "def rotate_strings(fs,ss):\n",
    "    if len(fs) != len(ss):\n",
    "        return(\"false\")\n",
    "    d = 1\n",
    "    for d in range(len(ss)):\n",
    "        str = ss[d:len(ss)]+ss[0:d]\n",
    "        if fs == str:\n",
    "            return(\"true\")\n",
    "    return(\"false\")\n",
    "\n",
    "if __name__==\"__main__\":\n",
    "    fs = \"xyz\"\n",
    "    ss = \"zxy\"\n",
    "    print(rotate_strings(fs,ss))"
   ]
  },
  {
   "cell_type": "code",
   "execution_count": 6,
   "metadata": {},
   "outputs": [
    {
     "name": "stdout",
     "output_type": "stream",
     "text": [
      "false\n"
     ]
    }
   ],
   "source": [
    "def rotate_strings(fs,ss):\n",
    "    if len(fs) != len(ss):\n",
    "        return(\"false\")\n",
    "    temp = fs+fs\n",
    "    if (temp.count(ss)>0):\n",
    "        return(\"true\")\n",
    "    else:\n",
    "        return(\"false\")\n",
    "\n",
    "if __name__==\"__main__\":\n",
    "    fs = \"xyz\"\n",
    "    ss = \"xzy\"\n",
    "    print(rotate_strings(fs,ss))"
   ]
  }
 ],
 "metadata": {
  "kernelspec": {
   "display_name": "Python 3",
   "language": "python",
   "name": "python3"
  },
  "language_info": {
   "codemirror_mode": {
    "name": "ipython",
    "version": 3
   },
   "file_extension": ".py",
   "mimetype": "text/x-python",
   "name": "python",
   "nbconvert_exporter": "python",
   "pygments_lexer": "ipython3",
   "version": "3.7.3"
  }
 },
 "nbformat": 4,
 "nbformat_minor": 2
}
