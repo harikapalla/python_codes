{
 "cells": [
  {
   "cell_type": "code",
   "execution_count": 4,
   "metadata": {},
   "outputs": [
    {
     "name": "stdout",
     "output_type": "stream",
     "text": [
      "Without order removing duplicates: leho\n",
      "With order removing duplicates: helo\n"
     ]
    }
   ],
   "source": [
    "from collections import OrderedDict\n",
    "\n",
    "def withoutorder(string):\n",
    "    return(''.join(set(string)))\n",
    "    \n",
    "def withorder(string):\n",
    "    return(''.join(OrderedDict.fromkeys(string)))\n",
    "    \n",
    "if __name__==\"__main__\":\n",
    "    string = \"hello\"\n",
    "    print(\"Without order removing duplicates:\", withoutorder(string))\n",
    "    print(\"With order removing duplicates:\", withorder(string))"
   ]
  },
  {
   "cell_type": "markdown",
   "metadata": {},
   "source": [
    "##### OrderedDict:\n",
    "d = OrderedDict()\n",
    "ordered dict preserves the orders that we first inserted the keys even after add, update, delete the order of the keys were remain unchanged. It follows the order of the keys inserted into the dictionary.\n",
    "\n",
    "##### join:\n",
    "''.join(sequence)\n",
    "\n",
    "##### set:\n",
    "set is a data type which removes the duplicates, only stores unique values\n",
    "\n",
    "##### fromkeys():\n",
    "fromkeys(sequence, value) #default value is none\n",
    "A method in a dictionary used to generate the dictionary from keys\n"
   ]
  }
 ],
 "metadata": {
  "kernelspec": {
   "display_name": "Python 3",
   "language": "python",
   "name": "python3"
  },
  "language_info": {
   "codemirror_mode": {
    "name": "ipython",
    "version": 3
   },
   "file_extension": ".py",
   "mimetype": "text/x-python",
   "name": "python",
   "nbconvert_exporter": "python",
   "pygments_lexer": "ipython3",
   "version": "3.7.3"
  }
 },
 "nbformat": 4,
 "nbformat_minor": 2
}
