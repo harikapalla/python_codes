{
 "cells": [
  {
   "cell_type": "code",
   "execution_count": 20,
   "metadata": {},
   "outputs": [
    {
     "name": "stdout",
     "output_type": "stream",
     "text": [
      "most occuring char: r -> 3\n"
     ]
    }
   ],
   "source": [
    "from collections import Counter\n",
    "def dupchar(string):\n",
    "    x = Counter(string)\n",
    "    maxv = max(x.values())\n",
    "    lv = list(x.values())\n",
    "    lk = list(x.keys())\n",
    "    print(\"most occuring char:\", lk[lv.index(maxv)], \"->\",maxv)\n",
    "\n",
    "if __name__==\"__main__\":\n",
    "    string = \"pythonprogrammer\"\n",
    "    dupchar(string)"
   ]
  },
  {
   "cell_type": "markdown",
   "metadata": {},
   "source": [
    "##### Counter:\n",
    "counter have inbuilt hashmap, general purpose for dictionaries, lists, tuples\n",
    "counter methods:   elements(), mostcommon()\n",
    "errors and exceptions: presence have -ve value show error, initialize with any value having -ve it throws exception\n",
    "\n",
    "##### __name__ == \"__main__\"\n",
    "condition used to check whether the program is running at main or not, any imported program is running?"
   ]
  }
 ],
 "metadata": {
  "kernelspec": {
   "display_name": "Python 3",
   "language": "python",
   "name": "python3"
  },
  "language_info": {
   "codemirror_mode": {
    "name": "ipython",
    "version": 3
   },
   "file_extension": ".py",
   "mimetype": "text/x-python",
   "name": "python",
   "nbconvert_exporter": "python",
   "pygments_lexer": "ipython3",
   "version": "3.7.3"
  }
 },
 "nbformat": 4,
 "nbformat_minor": 2
}
