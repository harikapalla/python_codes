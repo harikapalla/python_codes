{
 "cells": [
  {
   "cell_type": "code",
   "execution_count": 6,
   "metadata": {},
   "outputs": [
    {
     "name": "stdout",
     "output_type": "stream",
     "text": [
      "non-repeat char: f\n"
     ]
    }
   ],
   "source": [
    "def non_repeat_char(str):\n",
    "    for i in range(len(str)):\n",
    "        if (str.count(str[i])==1):\n",
    "            print(\"non-repeat char:\", str[i])\n",
    "            return\n",
    "    print(\"all are repeated chars\")\n",
    "\n",
    "#driver code\n",
    "string = \"geeksforgeeks\"\n",
    "non_repeat_char(string)"
   ]
  }
 ],
 "metadata": {
  "kernelspec": {
   "display_name": "Python 3",
   "language": "python",
   "name": "python3"
  },
  "language_info": {
   "codemirror_mode": {
    "name": "ipython",
    "version": 3
   },
   "file_extension": ".py",
   "mimetype": "text/x-python",
   "name": "python",
   "nbconvert_exporter": "python",
   "pygments_lexer": "ipython3",
   "version": "3.7.3"
  }
 },
 "nbformat": 4,
 "nbformat_minor": 2
}
