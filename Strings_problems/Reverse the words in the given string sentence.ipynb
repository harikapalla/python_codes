{
 "cells": [
  {
   "cell_type": "code",
   "execution_count": 4,
   "metadata": {},
   "outputs": [
    {
     "name": "stdout",
     "output_type": "stream",
     "text": [
      "world programming the is This\n"
     ]
    }
   ],
   "source": [
    "def rev_words(sen):\n",
    "    l = sen.split(\" \")\n",
    "    l = l[::-1]\n",
    "    print(\" \".join(l))\n",
    "\n",
    "#driver program\n",
    "string_sen = \"This is the programming world\"\n",
    "rev_words(string_sen)"
   ]
  }
 ],
 "metadata": {
  "kernelspec": {
   "display_name": "Python 3",
   "language": "python",
   "name": "python3"
  },
  "language_info": {
   "codemirror_mode": {
    "name": "ipython",
    "version": 3
   },
   "file_extension": ".py",
   "mimetype": "text/x-python",
   "name": "python",
   "nbconvert_exporter": "python",
   "pygments_lexer": "ipython3",
   "version": "3.7.3"
  }
 },
 "nbformat": 4,
 "nbformat_minor": 2
}
